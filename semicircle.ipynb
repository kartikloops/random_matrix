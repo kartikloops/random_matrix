{
 "cells": [
  {
   "cell_type": "markdown",
   "id": "97f0e828",
   "metadata": {},
   "source": [
    "# Importing Modules"
   ]
  },
  {
   "cell_type": "code",
   "execution_count": null,
   "id": "794a44dd",
   "metadata": {},
   "outputs": [],
   "source": [
    "import numpy as np\n",
    "import matplotlib.pyplot as plt\n",
    "np.random.seed(42)\n"
   ]
  },
  {
   "cell_type": "code",
   "execution_count": null,
   "id": "c4b9a182",
   "metadata": {},
   "outputs": [],
   "source": [
    "def generate_wigner_matrix(N):\n",
    "    \"\"\"Generate a symmetric random matrix with ±1 entries.\"\"\"\n",
    "    # Random upper triangular matrix (including diagonal)\n",
    "    upper = np.random.choice([-1, 1], size=(N, N))\n",
    "    # Make symmetric\n",
    "    A = np.triu(upper)\n",
    "    A += np.triu(upper, 1).T  # Reflect upper triangle to lower\n",
    "    return A"
   ]
  }
 ],
 "metadata": {
  "kernelspec": {
   "display_name": "Python 3",
   "language": "python",
   "name": "python3"
  },
  "language_info": {
   "codemirror_mode": {
    "name": "ipython",
    "version": 3
   },
   "file_extension": ".py",
   "mimetype": "text/x-python",
   "name": "python",
   "nbconvert_exporter": "python",
   "pygments_lexer": "ipython3",
   "version": "3.12.3"
  }
 },
 "nbformat": 4,
 "nbformat_minor": 5
}
