{
 "cells": [
  {
   "cell_type": "markdown",
   "id": "97f0e828",
   "metadata": {},
   "source": [
    "# Importing Modules"
   ]
  },
  {
   "cell_type": "code",
   "execution_count": null,
   "id": "794a44dd",
   "metadata": {},
   "outputs": [],
   "source": [
    "import numpy as np\n",
    "import matplotlib.pyplot as plt\n",
    "np.random.seed(42)\n"
   ]
  },
  {
   "cell_type": "code",
   "execution_count": null,
   "id": "c4b9a182",
   "metadata": {},
   "outputs": [],
   "source": [
    "def generate_wigner_matrix(N):\n",
    "    \"\"\"Generate a symmetric random matrix with ±1 entries.\"\"\"\n",
    "    # Random upper triangular matrix (including diagonal)\n",
    "    upper = np.random.choice([-1, 1], size=(N, N))\n",
    "    # Make symmetric\n",
    "    A = np.triu(upper)\n",
    "    A += np.triu(upper, 1).T  # Reflect upper triangle to lower\n",
    "    return A"
   ]
  },
  {
   "cell_type": "code",
   "execution_count": null,
   "id": "58a77c59",
   "metadata": {},
   "outputs": [],
   "source": [
    "def plot_eigen_histogram(N):\n",
    "    \"\"\"Plot histogram of eigenvalues for given N.\"\"\"\n",
    "    A = generate_wigner_matrix(N)\n",
    "    eigenvalues = np.linalg.eigvalsh(A)  # more efficient for symmetric matrices\n",
    "    eigenvalues_rescaled = eigenvalues / np.sqrt(N)\n",
    "\n",
    "    plt.figure(figsize=(8, 5))\n",
    "    plt.hist(eigenvalues_rescaled, bins=50, density=True, color='skyblue', edgecolor='black')\n",
    "    plt.title(f'Wigner Matrix Eigenvalue Histogram (N = {N})')\n",
    "    plt.xlabel('Rescaled Eigenvalue')\n",
    "    plt.ylabel('Density')\n",
    "    plt.grid(True)\n",
    "    plt.show()"
   ]
  }
 ],
 "metadata": {
  "kernelspec": {
   "display_name": "Python 3",
   "language": "python",
   "name": "python3"
  },
  "language_info": {
   "codemirror_mode": {
    "name": "ipython",
    "version": 3
   },
   "file_extension": ".py",
   "mimetype": "text/x-python",
   "name": "python",
   "nbconvert_exporter": "python",
   "pygments_lexer": "ipython3",
   "version": "3.12.3"
  }
 },
 "nbformat": 4,
 "nbformat_minor": 5
}
