{
 "cells": [
  {
   "cell_type": "markdown",
   "id": "40f70680",
   "metadata": {},
   "source": [
    "# Importing the Modules"
   ]
  },
  {
   "cell_type": "code",
   "execution_count": null,
   "id": "96b600d9",
   "metadata": {},
   "outputs": [],
   "source": [
    "import numpy as np\n",
    "import matplotlib.pyplot as plt\n",
    "\n",
    "np.random.seed(42)  # reproducibility"
   ]
  },
  {
   "cell_type": "markdown",
   "id": "3981f690",
   "metadata": {},
   "source": [
    "# Generating wishart matrix"
   ]
  },
  {
   "cell_type": "code",
   "execution_count": 1,
   "id": "19b875e3",
   "metadata": {},
   "outputs": [],
   "source": [
    "def generate_wishart_matrix(N, alpha=0.5):\n",
    "    \"\"\"\n",
    "    Generates a Wishart matrix A = B Bᵀ from a random rectangular matrix B.\n",
    "\n",
    "    Parameters:\n",
    "    N (int): Number of columns of B (controls size of output matrix).\n",
    "    alpha (float): Ratio of rows to columns. M = int(alpha * N).\n",
    "\n",
    "    Returns:\n",
    "    numpy.ndarray: Wishart matrix of size (M x M).\n",
    "    \"\"\"\n",
    "    M = int(alpha * N)\n",
    "    B = np.random.randn(M, N)\n",
    "    A = B @ B.T  # Matrix multiplication to form Wishart matrix\n",
    "    return A"
   ]
  },
  {
   "cell_type": "markdown",
   "id": "8b813477",
   "metadata": {},
   "source": [
    "# Plotting wishart eigen histogram"
   ]
  },
  {
   "cell_type": "code",
   "execution_count": null,
   "id": "426301c7",
   "metadata": {},
   "outputs": [],
   "source": [
    "def plot_wishart_eigen_histogram(N, alpha=0.5):\n",
    "    \"\"\"\n",
    "    Computes and plots the histogram of eigenvalues of a Wishart matrix.\n",
    "\n",
    "    Steps:\n",
    "    1. Generate a random rectangular matrix B.\n",
    "    2. Compute A = B Bᵀ.\n",
    "    3. Compute eigenvalues of A.\n",
    "    4. Plot histogram of eigenvalues.\n",
    "\n",
    "    No rescaling is applied to eigenvalues in this experiment.\n",
    "\n",
    "    Parameters:\n",
    "    N (int): Number of columns of B (controls size of matrix).\n",
    "    alpha (float): Ratio of rows to columns.\n",
    "    \"\"\"\n",
    "    A = generate_wishart_matrix(N, alpha)\n",
    "    eigenvalues = np.linalg.eigvalsh(A)\n",
    "\n",
    "    plt.figure(figsize=(8, 5))\n",
    "    plt.hist(eigenvalues, bins=50, density=True,\n",
    "             color='salmon', edgecolor='black')\n",
    "    plt.title(f'Wishart Matrix Eigenvalue Histogram (N = {N}, α = {alpha})')\n",
    "    plt.xlabel('Eigenvalue')\n",
    "    plt.ylabel('Density')\n",
    "    plt.grid(True)\n",
    "    plt.show()"
   ]
  }
 ],
 "metadata": {
  "kernelspec": {
   "display_name": "Python 3",
   "language": "python",
   "name": "python3"
  },
  "language_info": {
   "codemirror_mode": {
    "name": "ipython",
    "version": 3
   },
   "file_extension": ".py",
   "mimetype": "text/x-python",
   "name": "python",
   "nbconvert_exporter": "python",
   "pygments_lexer": "ipython3",
   "version": "3.12.3"
  }
 },
 "nbformat": 4,
 "nbformat_minor": 5
}
