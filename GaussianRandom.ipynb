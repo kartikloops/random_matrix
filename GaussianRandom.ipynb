{
 "cells": [
  {
   "cell_type": "markdown",
   "id": "a9ae5b34",
   "metadata": {},
   "source": [
    "# Imported Modules"
   ]
  },
  {
   "cell_type": "code",
   "execution_count": 1,
   "id": "966c6f49",
   "metadata": {},
   "outputs": [],
   "source": [
    "import numpy as np\n",
    "import matplotlib.pyplot as plt"
   ]
  },
  {
   "cell_type": "code",
   "execution_count": 2,
   "id": "4519c6b0",
   "metadata": {},
   "outputs": [],
   "source": [
    "np.random.seed(42)"
   ]
  },
  {
   "cell_type": "markdown",
   "id": "f9ca3f5d",
   "metadata": {},
   "source": [
    "# Generate the gaussian maatrix"
   ]
  },
  {
   "cell_type": "code",
   "execution_count": 4,
   "id": "98ced755",
   "metadata": {},
   "outputs": [],
   "source": [
    "def generate_gaussian_matrix(N):\n",
    "    \"\"\"\n",
    "    Generates a random symmetric matrix with normally distributed entries.\n",
    "\n",
    "    The matrix is constructed as:\n",
    "        A = (B + Bᵀ) / √2\n",
    "    where B is an N x N matrix with entries drawn from a standard normal distribution N(0, 1).\n",
    "    This ensures the matrix A is symmetric and belongs to the Gaussian Orthogonal Ensemble (GOE).\n",
    "\n",
    "    Parameters:\n",
    "    N (int): Size of the matrix (N x N).\n",
    "\n",
    "    Returns:\n",
    "    numpy.ndarray: Symmetric Gaussian random matrix of size N x N.\n",
    "    \"\"\"\n",
    "    B = np.random.randn(N, N)  # Random matrix with normal entries\n",
    "    A = (B + B.T) / np.sqrt(2)  # Symmetrize and normalize\n",
    "    return A\n"
   ]
  },
  {
   "cell_type": "markdown",
   "id": "14b15273",
   "metadata": {},
   "source": [
    "# Plot the gaussian maatrix"
   ]
  },
  {
   "cell_type": "code",
   "execution_count": 5,
   "id": "340733ee",
   "metadata": {},
   "outputs": [],
   "source": [
    "def plot_gaussian_eigen_histogram(N):\n",
    "    \"\"\"\n",
    "    Computes and plots the histogram of rescaled eigenvalues of a Gaussian random symmetric matrix.\n",
    "\n",
    "    Steps:\n",
    "    1. Generate an N x N Gaussian symmetric matrix.\n",
    "    2. Compute its eigenvalues.\n",
    "    3. Rescale eigenvalues by 1/√N.\n",
    "    4. Plot a normalized histogram of the rescaled eigenvalues.\n",
    "\n",
    "    This experiment helps visualize the Wigner semicircle law for Gaussian matrices \n",
    "    as the matrix size increases.\n",
    "\n",
    "    Parameters:\n",
    "    N (int): Size of the matrix (N x N) to be generated and analyzed.\n",
    "    \"\"\"\n",
    "    # Generate Gaussian matrix\n",
    "    A = generate_gaussian_matrix(N)\n",
    "\n",
    "    # Compute eigenvalues (efficient for symmetric matrices)\n",
    "    eigenvalues = np.linalg.eigvalsh(A)\n",
    "\n",
    "    # Rescale eigenvalues\n",
    "    eigenvalues_rescaled = eigenvalues / np.sqrt(N)\n",
    "\n",
    "    # Plot histogram\n",
    "    plt.figure(figsize=(8, 5))\n",
    "    plt.hist(eigenvalues_rescaled, bins=50, density=True,\n",
    "             color='lightgreen', edgecolor='black')\n",
    "    plt.title(f'Gaussian Matrix Eigenvalue Histogram (N = {N})')\n",
    "    plt.xlabel('Rescaled Eigenvalue')\n",
    "    plt.ylabel('Density')\n",
    "    plt.grid(True)\n",
    "    plt.show()"
   ]
  },
  {
   "cell_type": "markdown",
   "id": "1443288d",
   "metadata": {},
   "source": [
    "# Loop for the values"
   ]
  },
  {
   "cell_type": "code",
   "execution_count": null,
   "id": "be70d543",
   "metadata": {},
   "outputs": [],
   "source": [
    "for N in [10, 100, 1000, 10000]:\n",
    "    print(f\"Processing N = {N}\")\n",
    "    plot_gaussian_eigen_histogram(N)"
   ]
  }
 ],
 "metadata": {
  "kernelspec": {
   "display_name": "Python 3",
   "language": "python",
   "name": "python3"
  },
  "language_info": {
   "codemirror_mode": {
    "name": "ipython",
    "version": 3
   },
   "file_extension": ".py",
   "mimetype": "text/x-python",
   "name": "python",
   "nbconvert_exporter": "python",
   "pygments_lexer": "ipython3",
   "version": "3.12.3"
  }
 },
 "nbformat": 4,
 "nbformat_minor": 5
}
